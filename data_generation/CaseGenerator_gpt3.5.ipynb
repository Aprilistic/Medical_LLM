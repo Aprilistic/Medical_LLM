{
 "cells": [
  {
   "cell_type": "code",
   "execution_count": 1,
   "metadata": {},
   "outputs": [
    {
     "name": "stdout",
     "output_type": "stream",
     "text": [
      "Requirement already satisfied: pip in /opt/homebrew/lib/python3.11/site-packages (23.2.1)\n",
      "Note: you may need to restart the kernel to use updated packages.\n",
      "Requirement already satisfied: langchain in /opt/homebrew/lib/python3.11/site-packages (0.0.300)\n",
      "Requirement already satisfied: openai in /opt/homebrew/lib/python3.11/site-packages (0.28.0)\n",
      "Collecting pandas\n",
      "  Obtaining dependency information for pandas from https://files.pythonhosted.org/packages/af/7b/d170f9c8306c7673f57ca4f442e326d36e20299725edc5d0af36a3e3b041/pandas-2.1.1-cp311-cp311-macosx_11_0_arm64.whl.metadata\n",
      "  Downloading pandas-2.1.1-cp311-cp311-macosx_11_0_arm64.whl.metadata (18 kB)\n",
      "Requirement already satisfied: tqdm in /opt/homebrew/lib/python3.11/site-packages (4.66.1)\n",
      "Requirement already satisfied: PyYAML>=5.3 in /opt/homebrew/lib/python3.11/site-packages (from langchain) (6.0.1)\n",
      "Requirement already satisfied: SQLAlchemy<3,>=1.4 in /opt/homebrew/lib/python3.11/site-packages (from langchain) (2.0.21)\n",
      "Requirement already satisfied: aiohttp<4.0.0,>=3.8.3 in /opt/homebrew/lib/python3.11/site-packages (from langchain) (3.8.5)\n",
      "Requirement already satisfied: anyio<4.0 in /opt/homebrew/lib/python3.11/site-packages (from langchain) (3.7.1)\n",
      "Requirement already satisfied: dataclasses-json<0.7,>=0.5.7 in /opt/homebrew/lib/python3.11/site-packages (from langchain) (0.6.0)\n",
      "Requirement already satisfied: jsonpatch<2.0,>=1.33 in /opt/homebrew/lib/python3.11/site-packages (from langchain) (1.33)\n",
      "Requirement already satisfied: langsmith<0.1.0,>=0.0.38 in /opt/homebrew/lib/python3.11/site-packages (from langchain) (0.0.40)\n",
      "Requirement already satisfied: numexpr<3.0.0,>=2.8.4 in /opt/homebrew/lib/python3.11/site-packages (from langchain) (2.8.6)\n",
      "Requirement already satisfied: numpy<2,>=1 in /opt/homebrew/lib/python3.11/site-packages (from langchain) (1.26.0)\n",
      "Requirement already satisfied: pydantic<3,>=1 in /opt/homebrew/lib/python3.11/site-packages (from langchain) (2.3.0)\n",
      "Requirement already satisfied: requests<3,>=2 in /opt/homebrew/lib/python3.11/site-packages (from langchain) (2.31.0)\n",
      "Requirement already satisfied: tenacity<9.0.0,>=8.1.0 in /opt/homebrew/lib/python3.11/site-packages (from langchain) (8.2.3)\n",
      "Requirement already satisfied: python-dateutil>=2.8.2 in /opt/homebrew/lib/python3.11/site-packages (from pandas) (2.8.2)\n",
      "Collecting pytz>=2020.1 (from pandas)\n",
      "  Obtaining dependency information for pytz>=2020.1 from https://files.pythonhosted.org/packages/32/4d/aaf7eff5deb402fd9a24a1449a8119f00d74ae9c2efa79f8ef9994261fc2/pytz-2023.3.post1-py2.py3-none-any.whl.metadata\n",
      "  Downloading pytz-2023.3.post1-py2.py3-none-any.whl.metadata (22 kB)\n",
      "Collecting tzdata>=2022.1 (from pandas)\n",
      "  Using cached tzdata-2023.3-py2.py3-none-any.whl (341 kB)\n",
      "Requirement already satisfied: attrs>=17.3.0 in /opt/homebrew/lib/python3.11/site-packages (from aiohttp<4.0.0,>=3.8.3->langchain) (23.1.0)\n",
      "Requirement already satisfied: charset-normalizer<4.0,>=2.0 in /opt/homebrew/lib/python3.11/site-packages (from aiohttp<4.0.0,>=3.8.3->langchain) (3.2.0)\n",
      "Requirement already satisfied: multidict<7.0,>=4.5 in /opt/homebrew/lib/python3.11/site-packages (from aiohttp<4.0.0,>=3.8.3->langchain) (6.0.4)\n",
      "Requirement already satisfied: async-timeout<5.0,>=4.0.0a3 in /opt/homebrew/lib/python3.11/site-packages (from aiohttp<4.0.0,>=3.8.3->langchain) (4.0.3)\n",
      "Requirement already satisfied: yarl<2.0,>=1.0 in /opt/homebrew/lib/python3.11/site-packages (from aiohttp<4.0.0,>=3.8.3->langchain) (1.9.2)\n",
      "Requirement already satisfied: frozenlist>=1.1.1 in /opt/homebrew/lib/python3.11/site-packages (from aiohttp<4.0.0,>=3.8.3->langchain) (1.4.0)\n",
      "Requirement already satisfied: aiosignal>=1.1.2 in /opt/homebrew/lib/python3.11/site-packages (from aiohttp<4.0.0,>=3.8.3->langchain) (1.3.1)\n",
      "Requirement already satisfied: idna>=2.8 in /opt/homebrew/lib/python3.11/site-packages (from anyio<4.0->langchain) (3.4)\n",
      "Requirement already satisfied: sniffio>=1.1 in /opt/homebrew/lib/python3.11/site-packages (from anyio<4.0->langchain) (1.3.0)\n",
      "Requirement already satisfied: marshmallow<4.0.0,>=3.18.0 in /opt/homebrew/lib/python3.11/site-packages (from dataclasses-json<0.7,>=0.5.7->langchain) (3.20.1)\n",
      "Requirement already satisfied: typing-inspect<1,>=0.4.0 in /opt/homebrew/lib/python3.11/site-packages (from dataclasses-json<0.7,>=0.5.7->langchain) (0.9.0)\n",
      "Requirement already satisfied: jsonpointer>=1.9 in /opt/homebrew/lib/python3.11/site-packages (from jsonpatch<2.0,>=1.33->langchain) (2.4)\n",
      "Requirement already satisfied: annotated-types>=0.4.0 in /opt/homebrew/lib/python3.11/site-packages (from pydantic<3,>=1->langchain) (0.5.0)\n",
      "Requirement already satisfied: pydantic-core==2.6.3 in /opt/homebrew/lib/python3.11/site-packages (from pydantic<3,>=1->langchain) (2.6.3)\n",
      "Requirement already satisfied: typing-extensions>=4.6.1 in /opt/homebrew/lib/python3.11/site-packages (from pydantic<3,>=1->langchain) (4.8.0)\n",
      "Requirement already satisfied: six>=1.5 in /opt/homebrew/lib/python3.11/site-packages (from python-dateutil>=2.8.2->pandas) (1.16.0)\n",
      "Requirement already satisfied: urllib3<3,>=1.21.1 in /opt/homebrew/lib/python3.11/site-packages (from requests<3,>=2->langchain) (2.0.5)\n",
      "Requirement already satisfied: certifi>=2017.4.17 in /opt/homebrew/lib/python3.11/site-packages (from requests<3,>=2->langchain) (2023.7.22)\n",
      "Requirement already satisfied: packaging>=17.0 in /opt/homebrew/lib/python3.11/site-packages (from marshmallow<4.0.0,>=3.18.0->dataclasses-json<0.7,>=0.5.7->langchain) (23.1)\n",
      "Requirement already satisfied: mypy-extensions>=0.3.0 in /opt/homebrew/lib/python3.11/site-packages (from typing-inspect<1,>=0.4.0->dataclasses-json<0.7,>=0.5.7->langchain) (1.0.0)\n",
      "Downloading pandas-2.1.1-cp311-cp311-macosx_11_0_arm64.whl (10.8 MB)\n",
      "\u001b[2K   \u001b[90m━━━━━━━━━━━━━━━━━━━━━━━━━━━━━━━━━━━━━━━━\u001b[0m \u001b[32m10.8/10.8 MB\u001b[0m \u001b[31m42.8 MB/s\u001b[0m eta \u001b[36m0:00:00\u001b[0ma \u001b[36m0:00:01\u001b[0m\n",
      "\u001b[?25hDownloading pytz-2023.3.post1-py2.py3-none-any.whl (502 kB)\n",
      "\u001b[2K   \u001b[90m━━━━━━━━━━━━━━━━━━━━━━━━━━━━━━━━━━━━━━━━\u001b[0m \u001b[32m502.5/502.5 kB\u001b[0m \u001b[31m22.6 MB/s\u001b[0m eta \u001b[36m0:00:00\u001b[0m\n",
      "\u001b[?25hInstalling collected packages: pytz, tzdata, pandas\n",
      "Successfully installed pandas-2.1.1 pytz-2023.3.post1 tzdata-2023.3\n",
      "Note: you may need to restart the kernel to use updated packages.\n"
     ]
    }
   ],
   "source": [
    "%pip install --upgrade pip\n",
    "%pip install langchain openai pandas tqdm"
   ]
  },
  {
   "cell_type": "code",
   "execution_count": 1,
   "metadata": {},
   "outputs": [],
   "source": [
    "from langchain.chat_models import ChatOpenAI\n",
    "from langchain import LLMChain\n",
    "from langchain import PromptTemplate\n",
    "from langchain.prompts.chat import (\n",
    "    ChatPromptTemplate,\n",
    "    SystemMessagePromptTemplate,\n",
    "    AIMessagePromptTemplate,\n",
    "    HumanMessagePromptTemplate,\n",
    ")\n",
    "from langchain.schema import (\n",
    "    AIMessage,\n",
    "    HumanMessage,\n",
    "    SystemMessage\n",
    ")\n",
    "\n",
    "\n",
    "# Supporting libraries\n",
    "import os"
   ]
  },
  {
   "cell_type": "code",
   "execution_count": 2,
   "metadata": {
    "tags": []
   },
   "outputs": [],
   "source": [
    "OPENAI_API_KEY = os.getenv('OPENAI_API_KEY', 'YOUR_API_KEY_HERE')"
   ]
  },
  {
   "cell_type": "code",
   "execution_count": 3,
   "metadata": {
    "tags": []
   },
   "outputs": [],
   "source": [
    "chat = ChatOpenAI(openai_api_key=OPENAI_API_KEY)"
   ]
  },
  {
   "cell_type": "code",
   "execution_count": 4,
   "metadata": {
    "tags": []
   },
   "outputs": [
    {
     "data": {
      "text/plain": [
       "AIMessage(content='The most populous state in the USA is California.', additional_kwargs={}, example=False)"
      ]
     },
     "execution_count": 4,
     "metadata": {},
     "output_type": "execute_result"
    }
   ],
   "source": [
    "message = [HumanMessage(content=\"What is the name of the most populous state in the USA?\")]\n",
    "\n",
    "chat(message)"
   ]
  },
  {
   "cell_type": "code",
   "execution_count": 5,
   "metadata": {
    "tags": []
   },
   "outputs": [],
   "source": [
    "prompt = PromptTemplate(\n",
    "    template=\"Assume the expertise of a clinical case writer, \\\n",
    "focusing primarily on pediatric patients aged 0 to 18 years, \\\n",
    "presenting with abdominal pain due to {Cause}. \\\n",
    "Your challenge is to craft 20 clinical case scenarios to hone the diagnostic abilities of a language model. \\\n",
    "These scenarios should genuinely reflect potential real-world pediatric instances, \\\n",
    "spanning a wide spectrum of diseases or causes, from routine to rare occurrences. \\\n",
    "Diversify the cases in all respects, considering both complexity and severity. \\\n",
    "Within the structure of each case, similar to the USMLE style, seamlessly weave in: \\\n",
    "Clinical Manifestation/Symptoms \\\n",
    "Patient's dialogue about the disease or cause Etiology \\\n",
    "Pathophysiology \\\n",
    "Risk factors and predisposing factors \\\n",
    "Past Medical History tied to the disease or cause Findings from the physical examination \\\n",
    "Vital signs \\\n",
    "Conclude every case with: 'What is the most likely diagnosis for the patient?'. \\\n",
    "Avoid multiple-choice. Instead, furnish the apt diagnosis, even if ambiguous, \\\n",
    "and accompany it with a detailed justification to fortify the language model's diagnostic prowess. \\\n",
    "The case should be a narrative style and don't categorize each information. \\\n",
    "Embark on devising these cases, spotlighting pediatric conditions or causes prompting abdominal pain. \\\n",
    "Confine the data to what can be deduced solely through patient dialogues and physical evaluations. \\\n",
    "Persist until a set of 20 diverse scenarios is established.\",\n",
    "    input_variables=[\"Cause\"]\n",
    ")\n",
    "\n",
    "system_message_prompt = SystemMessagePromptTemplate(prompt=prompt)\n"
   ]
  },
  {
   "cell_type": "code",
   "execution_count": 6,
   "metadata": {},
   "outputs": [],
   "source": [
    "Causes=[\n",
    "    \"Irritable bowel syndrome (IBS)\",\n",
    "    \"Functional dyspepsia\",\n",
    "    \"Functional abdominal pain\",\n",
    "    \"Gastroenteritis\",\n",
    "    \"Constipation\",\n",
    "    \"Appendicitis\",\n",
    "    \"Gastroesophageal reflux disease (GERD)\",\n",
    "    \"Gastritis or ulcers\",\n",
    "    \"Inflammatory bowel disease (Crohn’s disease or ulcerative colitis)\",\n",
    "    \"Celiac disease\",\n",
    "    \"Food allergies or intolerances\",\n",
    "    \"Gallstones (rare in children)\",\n",
    "    \"Pancreatitis\",\n",
    "    \"Intestinal obstruction\",\n",
    "    \"Meckel's diverticulum\",\n",
    "    \"Intussusception\",\n",
    "    \"Volvulus\",\n",
    "    \"Hirschsprung's disease\",\n",
    "    \"Malrotation of the intestines\",\n",
    "    \"Abdominal hernia (inguinal, umbilical, etc.)\",\n",
    "    \"Anal fissures or abscesses\",\n",
    "    \"Urinary tract infection (UTI)\",\n",
    "    \"Kidney stones\",\n",
    "    \"Pyelonephritis\",\n",
    "    \"Testicular torsion or other testicular problems\",\n",
    "    \"Menstrual pain (dysmenorrhoea)\",\n",
    "    \"Ovarian cysts or torsion\",\n",
    "    \"Pelvic inflammatory disease (rare in children unless sexually active)\",\n",
    "    \"Diabetic ketoacidosis\",\n",
    "    \"Porphyria\",\n",
    "    \"Addisonian crisis\",\n",
    "    \"Hypercalcemia\",\n",
    "    \"Abdominal trauma\",\n",
    "    \"Post-surgical pain\",\n",
    "    \"Pneumonia (particularly lower lobe which can refer pain to the abdomen)\",\n",
    "    \"Hepatitis\",\n",
    "    \"Abscess formation (liver, spleen, or elsewhere)\",\n",
    "    \"Sickle cell crisis\",\n",
    "    \"Familial Mediterranean fever\",\n",
    "    \"Abdominal migraines\",\n",
    "    \"Tumors (benign or malignant)\",\n",
    "    \"Abdominal wall pain (from strain or injury)\",\n",
    "    \"Mesenteric adenitis\",\n",
    "    \"Henoch-Schönlein purpura\",\n",
    "    \"Drug side effects or poison ingestion\",\n",
    "    \"Foreign body ingestion\",\n",
    "    \"Psychogenic pain (emotional or stress-related)\",\n",
    "    \"Rheumatological conditions such as systemic lupus erythematosus (SLE)\"\n",
    "]"
   ]
  },
  {
   "cell_type": "code",
   "execution_count": 7,
   "metadata": {},
   "outputs": [],
   "source": [
    "chat_prompt = ChatPromptTemplate.from_messages([system_message_prompt])"
   ]
  },
  {
   "cell_type": "code",
   "execution_count": 8,
   "metadata": {},
   "outputs": [],
   "source": [
    "import pandas as pd\n",
    "from tqdm import tqdm\n",
    "\n",
    "df = pd.DataFrame(columns=['Cause', 'Response'])"
   ]
  },
  {
   "cell_type": "code",
   "execution_count": 9,
   "metadata": {},
   "outputs": [
    {
     "name": "stdout",
     "output_type": "stream",
     "text": [
      "Case 1:\n",
      "Clinical Manifestation/Symptoms:\n",
      "A 7-year-old boy presents to the pediatric clinic with complaints of recurrent abdominal pain that is often relieved by defecation. He describes the pain as crampy and localized to the lower abdomen. He has noticed that the pain is worse after eating certain foods or when he feels stressed.\n",
      "\n",
      "Patient's dialogue about the disease or cause:\n",
      "Doctor: Can you tell me more about your abdominal pain?\n",
      "Patient: It hurts in my tummy, especially after I eat certain things or when I feel worried about something.\n",
      "\n",
      "Etiology:\n",
      "The etiology of this patient's abdominal pain is likely to be Irritable Bowel Syndrome (IBS), which is a common gastrointestinal disorder.\n",
      "\n",
      "Pathophysiology:\n",
      "In IBS, the exact pathophysiology is not fully understood, but it is believed to involve abnormalities in the way the brain and gut communicate. The gut becomes more sensitive and reacts strongly to normal digestive processes, leading to abdominal pain and changes in bowel habits.\n",
      "\n",
      "Risk factors and predisposing factors:\n",
      "Risk factors for developing IBS include a family history of the condition, being female, and experiencing a traumatic event or high levels of stress.\n",
      "\n",
      "Past Medical History:\n",
      "The patient has no significant past medical history.\n",
      "\n",
      "Physical examination:\n",
      "The physical examination is unremarkable.\n",
      "\n",
      "Vital signs:\n",
      "The patient's vital signs are within normal limits.\n",
      "\n",
      "What is the most likely diagnosis for the patient?\n",
      "The most likely diagnosis for this patient is Irritable Bowel Syndrome (IBS). This is supported by the recurrent abdominal pain, which is relieved by defecation, and the association with certain foods and stress. The absence of any findings on physical examination and the lack of significant past medical history also point towards IBS as the likely diagnosis.\n"
     ]
    }
   ],
   "source": [
    "chat_prompt_with_causes = chat_prompt.format_prompt(Cause=Causes[0])\n",
    "response = chat(chat_prompt_with_causes.to_messages()).content\n",
    "\n",
    "print(response)"
   ]
  },
  {
   "cell_type": "code",
   "execution_count": 10,
   "metadata": {},
   "outputs": [
    {
     "name": "stdout",
     "output_type": "stream",
     "text": [
      "Number of Causes: 48\n"
     ]
    },
    {
     "name": "stderr",
     "output_type": "stream",
     "text": [
      "  0%|          | 0/1 [00:00<?, ?it/s]"
     ]
    },
    {
     "name": "stderr",
     "output_type": "stream",
     "text": [
      "100%|██████████| 1/1 [00:11<00:00, 11.57s/it]\n",
      "100%|██████████| 1/1 [00:12<00:00, 12.48s/it]\n",
      "100%|██████████| 1/1 [00:14<00:00, 14.75s/it]\n",
      "100%|██████████| 1/1 [00:12<00:00, 12.42s/it]\n",
      "100%|██████████| 1/1 [00:13<00:00, 13.37s/it]\n",
      "100%|██████████| 1/1 [00:13<00:00, 13.82s/it]\n",
      "100%|██████████| 1/1 [00:14<00:00, 14.03s/it]\n",
      "100%|██████████| 1/1 [00:14<00:00, 14.26s/it]\n",
      "100%|██████████| 1/1 [00:13<00:00, 13.57s/it]\n",
      "100%|██████████| 1/1 [00:24<00:00, 24.75s/it]\n",
      "100%|██████████| 1/1 [00:14<00:00, 14.46s/it]\n",
      "100%|██████████| 1/1 [00:12<00:00, 12.08s/it]\n",
      "100%|██████████| 1/1 [00:14<00:00, 14.19s/it]\n",
      "100%|██████████| 1/1 [00:16<00:00, 16.41s/it]\n",
      "100%|██████████| 1/1 [00:14<00:00, 14.44s/it]\n",
      "100%|██████████| 1/1 [00:11<00:00, 11.87s/it]\n",
      "100%|██████████| 1/1 [00:10<00:00, 10.95s/it]\n",
      "100%|██████████| 1/1 [00:13<00:00, 13.93s/it]\n",
      "100%|██████████| 1/1 [00:12<00:00, 12.12s/it]\n",
      "100%|██████████| 1/1 [00:14<00:00, 14.62s/it]\n",
      "100%|██████████| 1/1 [00:18<00:00, 18.98s/it]\n",
      "100%|██████████| 1/1 [00:12<00:00, 12.77s/it]\n",
      "100%|██████████| 1/1 [00:17<00:00, 17.67s/it]\n",
      "100%|██████████| 1/1 [00:19<00:00, 19.13s/it]\n",
      "100%|██████████| 1/1 [00:14<00:00, 14.69s/it]\n",
      "100%|██████████| 1/1 [00:23<00:00, 23.23s/it]\n",
      "100%|██████████| 1/1 [02:42<00:00, 162.34s/it]\n",
      "100%|██████████| 1/1 [00:17<00:00, 17.68s/it]\n",
      "100%|██████████| 1/1 [00:18<00:00, 18.18s/it]\n",
      "100%|██████████| 1/1 [00:20<00:00, 20.19s/it]\n",
      "100%|██████████| 1/1 [00:20<00:00, 20.68s/it]\n",
      "100%|██████████| 1/1 [00:17<00:00, 17.55s/it]\n",
      "100%|██████████| 1/1 [00:18<00:00, 18.81s/it]\n",
      "100%|██████████| 1/1 [00:19<00:00, 19.64s/it]\n",
      "100%|██████████| 1/1 [00:14<00:00, 14.54s/it]\n",
      "100%|██████████| 1/1 [00:16<00:00, 16.58s/it]\n",
      "100%|██████████| 1/1 [00:20<00:00, 20.07s/it]\n",
      "100%|██████████| 1/1 [00:16<00:00, 16.07s/it]\n",
      "100%|██████████| 1/1 [00:19<00:00, 19.81s/it]\n",
      "100%|██████████| 1/1 [02:29<00:00, 149.68s/it]\n",
      "100%|██████████| 1/1 [00:14<00:00, 14.16s/it]\n",
      "100%|██████████| 1/1 [00:12<00:00, 12.89s/it]\n",
      "100%|██████████| 1/1 [00:16<00:00, 16.45s/it]\n",
      "100%|██████████| 1/1 [00:13<00:00, 13.41s/it]\n",
      "100%|██████████| 1/1 [00:09<00:00,  9.92s/it]\n",
      "100%|██████████| 1/1 [00:12<00:00, 12.23s/it]\n",
      "100%|██████████| 1/1 [00:09<00:00,  9.68s/it]\n",
      "100%|██████████| 1/1 [00:14<00:00, 14.26s/it]\n"
     ]
    }
   ],
   "source": [
    "import pandas as pd\n",
    "from tqdm import tqdm\n",
    "\n",
    "print(\"Number of Causes:\", len(Causes))\n",
    "\n",
    "df = pd.DataFrame(columns=['Cause', 'Response'])\n",
    "\n",
    "iteration = 1\n",
    "\n",
    "for cause in Causes:\n",
    "    for i in tqdm(range(iteration)):\n",
    "        chat_prompt_with_causes = chat_prompt.format_prompt(Cause=cause)\n",
    "        response = chat(chat_prompt_with_causes.to_messages()).content\n",
    "        new_row = {'Cause': cause, 'Response': response}\n",
    "        df = pd.concat([df, pd.DataFrame([new_row])], ignore_index=True)\n",
    "\n",
    "df.to_csv('GeneratedCases.csv', index=False)\n"
   ]
  },
  {
   "cell_type": "code",
   "execution_count": 16,
   "metadata": {},
   "outputs": [
    {
     "ename": "AttributeError",
     "evalue": "'str' object has no attribute 'dtype'",
     "output_type": "error",
     "traceback": [
      "\u001b[0;31m---------------------------------------------------------------------------\u001b[0m",
      "\u001b[0;31mAttributeError\u001b[0m                            Traceback (most recent call last)",
      "\u001b[1;32m/Users/jinho/Library/CloudStorage/OneDrive-개인/창의학기제/무제 폴더/test.ipynb Cell 10\u001b[0m line \u001b[0;36m2\n\u001b[1;32m      <a href='vscode-notebook-cell:/Users/jinho/Library/CloudStorage/OneDrive-%E1%84%80%E1%85%A2%E1%84%8B%E1%85%B5%E1%86%AB/%E1%84%8E%E1%85%A1%E1%86%BC%E1%84%8B%E1%85%B4%E1%84%92%E1%85%A1%E1%86%A8%E1%84%80%E1%85%B5%E1%84%8C%E1%85%A6/%E1%84%86%E1%85%AE%E1%84%8C%E1%85%A6%20%E1%84%91%E1%85%A9%E1%86%AF%E1%84%83%E1%85%A5/test.ipynb#X13sZmlsZQ%3D%3D?line=0'>1</a>\u001b[0m response \u001b[39m=\u001b[39m chat(chat_prompt_with_causes\u001b[39m.\u001b[39mto_messages())\u001b[39m.\u001b[39mcontent\n\u001b[0;32m----> <a href='vscode-notebook-cell:/Users/jinho/Library/CloudStorage/OneDrive-%E1%84%80%E1%85%A2%E1%84%8B%E1%85%B5%E1%86%AB/%E1%84%8E%E1%85%A1%E1%86%BC%E1%84%8B%E1%85%B4%E1%84%92%E1%85%A1%E1%86%A8%E1%84%80%E1%85%B5%E1%84%8C%E1%85%A6/%E1%84%86%E1%85%AE%E1%84%8C%E1%85%A6%20%E1%84%91%E1%85%A9%E1%86%AF%E1%84%83%E1%85%A5/test.ipynb#X13sZmlsZQ%3D%3D?line=1'>2</a>\u001b[0m \u001b[39mprint\u001b[39m(response\u001b[39m.\u001b[39;49mdtype())\n",
      "\u001b[0;31mAttributeError\u001b[0m: 'str' object has no attribute 'dtype'"
     ]
    }
   ],
   "source": [
    "response = chat(chat_prompt_with_causes.to_messages()).content\n",
    "print(response.dtype())"
   ]
  },
  {
   "cell_type": "code",
   "execution_count": null,
   "metadata": {},
   "outputs": [],
   "source": []
  }
 ],
 "metadata": {
  "kernelspec": {
   "display_name": "ml",
   "language": "python",
   "name": "ml"
  },
  "language_info": {
   "codemirror_mode": {
    "name": "ipython",
    "version": 3
   },
   "file_extension": ".py",
   "mimetype": "text/x-python",
   "name": "python",
   "nbconvert_exporter": "python",
   "pygments_lexer": "ipython3",
   "version": "3.11.5"
  }
 },
 "nbformat": 4,
 "nbformat_minor": 4
}
